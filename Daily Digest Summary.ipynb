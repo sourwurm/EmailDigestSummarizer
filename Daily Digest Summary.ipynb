{
 "cells": [
  {
   "cell_type": "markdown",
   "metadata": {},
   "source": [
    "# Medium Daily Digest Summarizer\n",
    "\n",
    "Gets all of your daily digest emails from medium and summarizing each article within them! Have all of your articles summarized while you fix youself a cup of coffee :^)"
   ]
  },
  {
   "cell_type": "code",
   "execution_count": 1,
   "metadata": {},
   "outputs": [],
   "source": [
    "import imaplib\n",
    "import email\n",
    "from newspaper import Article, ArticleException, news_pool\n",
    "\n",
    "import pandas as pd\n",
    "import numpy as np\n",
    "\n",
    "from nltk import sent_tokenize, word_tokenize\n",
    "from nltk.corpus import stopwords\n",
    "import re\n",
    "import heapq\n",
    "\n",
    "from datetime import date"
   ]
  },
  {
   "cell_type": "markdown",
   "metadata": {},
   "source": [
    "### Scraping emails"
   ]
  },
  {
   "cell_type": "code",
   "execution_count": 2,
   "metadata": {},
   "outputs": [],
   "source": [
    "#user should be your email address in the form \"----@gmail.com\"\n",
    "user = 'YOUR EMAIL'\n",
    "\n",
    "#password is ideally an app password to maintain account security\n",
    "#instructions on how to get your gmail app password: https://support.google.com/accounts/answer/185833?hl=en\n",
    "password = 'YOUR PASSWORD'\n",
    "\n",
    "#imap url for gmail\n",
    "imap_url = 'imap.gmail.com'"
   ]
  },
  {
   "cell_type": "code",
   "execution_count": 3,
   "metadata": {},
   "outputs": [],
   "source": [
    "def get_body(msg):\n",
    "    \n",
    "    \n",
    "    #if nested, apply function until you get to the content\n",
    "    if msg.is_multipart():\n",
    "        return get_body(msg.get_payload(0))\n",
    "    \n",
    "    #return content\n",
    "    else:\n",
    "        return msg.get_payload(None, True)"
   ]
  },
  {
   "cell_type": "code",
   "execution_count": 4,
   "metadata": {},
   "outputs": [],
   "source": [
    "def search(key, value, con):\n",
    "    \n",
    "    #search for key value pairs matching FROM noreply@medium.com\n",
    "    result, data = con.search(None, key, '\"{}\"'.format(value))\n",
    "    \n",
    "    return data"
   ]
  },
  {
   "cell_type": "code",
   "execution_count": 5,
   "metadata": {},
   "outputs": [],
   "source": [
    "def get_emails(result_bytes):\n",
    "    \n",
    "    #get emails under a particular label\n",
    "    #in this case, the inbox\n",
    "    #stored inside a list\n",
    "    msgs = []\n",
    "    \n",
    "    ####only retrieving the latest email\n",
    "    num = result_bytes[0].split()[-1]\n",
    "\n",
    "    typ, data = con.fetch(num, '(RFC822)')\n",
    "    msgs.append(data)\n",
    "    \n",
    "    ####if youd like to retrieve all emails, uncomment the following:\n",
    "    \n",
    "    #for num in result_bytes[0].split():\n",
    "        #typ, data = con.fetch(num, '(RFC822)')\n",
    "        #msgs.append(data)\n",
    "    \n",
    "    return msgs"
   ]
  },
  {
   "cell_type": "code",
   "execution_count": 6,
   "metadata": {},
   "outputs": [
    {
     "data": {
      "text/plain": [
       "('OK', [b'453'])"
      ]
     },
     "execution_count": 6,
     "metadata": {},
     "output_type": "execute_result"
    }
   ],
   "source": [
    "#logging in with credentials and accessing emails in the inbox\n",
    "#note: this will include ALL emails in the inbox, not just those seen in the section labeled \"Primary\"\n",
    "#(you might have more emails in your inbox than you think)\n",
    "con = imaplib.IMAP4_SSL(imap_url, 993)\n",
    "con.login(user, password)\n",
    "con.select('Inbox')"
   ]
  },
  {
   "cell_type": "code",
   "execution_count": 7,
   "metadata": {},
   "outputs": [],
   "source": [
    "#getting emails from medium\n",
    "msgs =  get_emails(search('FROM', 'noreply@medium.com', con))"
   ]
  },
  {
   "cell_type": "code",
   "execution_count": 8,
   "metadata": {},
   "outputs": [],
   "source": [
    "#extracting information contained between parentheses\n",
    "#aka article links\n",
    "p1 = []\n",
    "for msg in msgs[::-1]:\n",
    "    for sent in msg:\n",
    "        p1.append(re.findall('\\(([^)]+)', str(sent)))"
   ]
  },
  {
   "cell_type": "markdown",
   "metadata": {},
   "source": [
    "### Getting article links"
   ]
  },
  {
   "cell_type": "code",
   "execution_count": 9,
   "metadata": {},
   "outputs": [],
   "source": [
    "#filtering out unwanted links\n",
    "check = []\n",
    "\n",
    "for lst in p1:\n",
    "    \n",
    "    for string in lst:\n",
    "        match_lst = re.findall('.*(?:\\/.*){4}', str(string))\n",
    "        \n",
    "        for val in match_lst:\n",
    "            \n",
    "            if (len(val) > 1) and ('https://medium.com/' in val):\n",
    "                check.append(val)"
   ]
  },
  {
   "cell_type": "code",
   "execution_count": 10,
   "metadata": {},
   "outputs": [],
   "source": [
    "links = []\n",
    "\n",
    "for val in check:\n",
    "     \n",
    "    #remove everything after '?'\n",
    "    #remove '=\\\\r\\\\n' from links       \n",
    "    val = val.replace ('=\\\\r\\\\n', '')\n",
    "    val = re.sub('[?].*','', val)\n",
    "    \n",
    "    #removing special cases\n",
    "    if (len(val) > 45) and ('E2=80=A6' not in val) and ('api/requests/' not in val):\n",
    "    \n",
    "        #link stored in a new list\n",
    "        links.append(val)"
   ]
  },
  {
   "cell_type": "markdown",
   "metadata": {},
   "source": [
    "### Scraping articles"
   ]
  },
  {
   "cell_type": "code",
   "execution_count": 11,
   "metadata": {},
   "outputs": [],
   "source": [
    "title = []\n",
    "author = []\n",
    "published = []\n",
    "body = []\n",
    "\n",
    "#downloading articles\n",
    "#multi-threading to be nicer to medium\n",
    "articles = [Article(link, fetch_images = False) for link in links]\n",
    "news_pool.set(articles, threads_per_source = 6)\n",
    "news_pool.join()\n",
    "\n",
    "#getting title, author, publish date, and text body for each article\n",
    "for i in range(0, len(articles)):\n",
    "    \n",
    "    try:\n",
    "        articles[i].parse()\n",
    "    \n",
    "    except ArticleException:\n",
    "        pass\n",
    "    \n",
    "    #appending each to the corresponding list\n",
    "    title.append(articles[i].title)\n",
    "    author.append(articles[i].authors)\n",
    "    published.append(articles[i].publish_date)\n",
    "    body.append(articles[i].text)"
   ]
  },
  {
   "cell_type": "code",
   "execution_count": 12,
   "metadata": {},
   "outputs": [],
   "source": [
    "#putting together the dataframe\n",
    "df = pd.DataFrame({'Link': links, 'Author':author, 'Title':title, 'Published':published, 'Body':body})"
   ]
  },
  {
   "cell_type": "markdown",
   "metadata": {},
   "source": [
    "### Cleaning text"
   ]
  },
  {
   "cell_type": "code",
   "execution_count": 13,
   "metadata": {},
   "outputs": [],
   "source": [
    "def body_wash(string, punct = False):\n",
    "    \n",
    "    #removing line breaks, digits, and empty space\n",
    "    string = string.replace('\\n\\n', ' ')\n",
    "    string = re.sub(r'\\[[0-9]*\\]', ' ', string)\n",
    "    string = re.sub(r'\\s+', ' ', string)\n",
    "    \n",
    "    if punct:\n",
    "        \n",
    "        #removes punctuation\n",
    "        string = re.sub(r'[^a-zA-Z]', ' ', string)\n",
    "        \n",
    "        return string\n",
    "    \n",
    "    else:\n",
    "\n",
    "        return string"
   ]
  },
  {
   "cell_type": "code",
   "execution_count": 14,
   "metadata": {},
   "outputs": [],
   "source": [
    "#cleaning the body of test\n",
    "df['Body'] = df['Body'].apply(body_wash)"
   ]
  },
  {
   "cell_type": "code",
   "execution_count": 15,
   "metadata": {},
   "outputs": [],
   "source": [
    "sent_lst = []\n",
    "\n",
    "#each article represented as lists of its sentences\n",
    "for body in df['Body']:\n",
    "    sent_lst.append(sent_tokenize(body))"
   ]
  },
  {
   "cell_type": "code",
   "execution_count": 16,
   "metadata": {},
   "outputs": [],
   "source": [
    "#body of text cleaned, with puntuation removed\n",
    "formatted = list(df['Body'].apply(body_wash, punct = True))"
   ]
  },
  {
   "cell_type": "markdown",
   "metadata": {},
   "source": [
    "### Summarizing articles"
   ]
  },
  {
   "cell_type": "code",
   "execution_count": 17,
   "metadata": {},
   "outputs": [],
   "source": [
    "stop = stopwords.words('english')\n",
    "\n",
    "freqs = []\n",
    "\n",
    "#getting word frequencies for each article\n",
    "for txt in formatted:\n",
    "    \n",
    "    #every article will get its own dictionary, containing the articles word frequencies\n",
    "    word_freq = {}\n",
    "    \n",
    "    for word in word_tokenize(txt):\n",
    "        \n",
    "        if word not in stop:\n",
    "            \n",
    "            #adds word to the dictionary if doesnt already exists\n",
    "            if word not in word_freq.keys():\n",
    "                word_freq[word] = 1\n",
    "                \n",
    "            #otherwise just adds it to the existing count\n",
    "            else:\n",
    "                word_freq[word] += 1\n",
    "                \n",
    "    #adding each dictionary to the list           \n",
    "    freqs.append(word_freq)"
   ]
  },
  {
   "cell_type": "code",
   "execution_count": 18,
   "metadata": {},
   "outputs": [],
   "source": [
    "#getting the relative frequency of each word\n",
    "for word_freq in freqs:\n",
    "    \n",
    "    #max word frequency\n",
    "    max_freq = max(word_freq.values())\n",
    "\n",
    "    for word in word_freq.keys():\n",
    "        \n",
    "        #dividing each word frequency by the max frequency\n",
    "        word_freq[word] = (word_freq[word]/max_freq)"
   ]
  },
  {
   "cell_type": "code",
   "execution_count": 19,
   "metadata": {},
   "outputs": [],
   "source": [
    "scores = []\n",
    "\n",
    "#getting each sentences score, according to its word frequencies\n",
    "for i, lst in enumerate(sent_lst):\n",
    "    \n",
    "    sent_scores = {}\n",
    "    \n",
    "    #looping through every sentence in the article\n",
    "    for sent in lst:\n",
    "        \n",
    "        #looping through every word in the sentence\n",
    "        for word in word_tokenize(sent.lower()):\n",
    "            \n",
    "            #if the word is a key in the word frequency dictionary corresponding to its article\n",
    "            if word in freqs[i].keys():\n",
    "                \n",
    "                #less than 30 words in the sentence\n",
    "                if len(sent.split(' ')) < 30:\n",
    "                    \n",
    "                    #if the sentence isnt already scored\n",
    "                    if sent not in sent_scores.keys():\n",
    "                        sent_scores[sent] = freqs[i][word]\n",
    "                    \n",
    "                    #if its already there, add the value\n",
    "                    else:\n",
    "                        sent_scores[sent] += freqs[i][word]\n",
    "                        \n",
    "    scores.append(sent_scores)\n",
    "                    \n",
    "                    "
   ]
  },
  {
   "cell_type": "code",
   "execution_count": 20,
   "metadata": {},
   "outputs": [],
   "source": [
    "#empty list holding every summary\n",
    "sums = []\n",
    "\n",
    "#looping through each article\n",
    "for sent_score in scores:\n",
    "    \n",
    "    #getting the 7 highest scoring sentences for each article\n",
    "    summary_sent = heapq.nlargest(7, sent_score, key = sent_score.get)\n",
    "    \n",
    "    #joining each summary into a single string\n",
    "    summary = ' '.join(summary_sent)\n",
    "    \n",
    "    #appending the summary\n",
    "    sums.append(summary)"
   ]
  },
  {
   "cell_type": "code",
   "execution_count": 21,
   "metadata": {},
   "outputs": [],
   "source": [
    "df['Summary'] = sums"
   ]
  },
  {
   "cell_type": "markdown",
   "metadata": {},
   "source": [
    "#### Full Article"
   ]
  },
  {
   "cell_type": "code",
   "execution_count": 28,
   "metadata": {},
   "outputs": [
    {
     "data": {
      "text/plain": [
       "'I Drank A Gallon Of Water A Day For Better Skin — & Here’s What Happened'"
      ]
     },
     "execution_count": 28,
     "metadata": {},
     "output_type": "execute_result"
    }
   ],
   "source": [
    "df.iloc[5,2]"
   ]
  },
  {
   "cell_type": "code",
   "execution_count": 22,
   "metadata": {},
   "outputs": [
    {
     "data": {
      "text/plain": [
       "'I Drank A Gallon Of Water A Day For Better Skin — & Here’s What Happened Refinery29 UK Follow Aug 11 · 4 min read By Maria Del Russo PHOTOGRAPHED BY TAYLER SMITH. I’m a fairly healthy person — I do what I can to feel good, while still enjoying my life. I wake up at the crack of dawn for yoga and eat a fairly balanced diet, but I’ll also snag that last slice of pizza if you don’t get to it first. But one thing I’ve been told over and over again is that I don’t drink enough water. During my checkups, my doctors would tell me the horrible migraines that left me incapacitated for days might have to do with dehydration. My derm said that my acne would likely improve if I drank more water. And every aesthetician I’ve ever been to would tsk-tsk when I told them how little water I imbibed on a daily basis. Water, it seemed, was the answer to all of my problems. You’ve likely heard similar advice. Just do a Google search for “water for skin,” and you’ll find thousands of articles on the subject. Chugging multiple glasses daily is said to be the secret to a glowing complexion — even though the science is still out on whether all this H2O is actually hydrating us from the inside out. As I’ve never been one to turn down a challenge, though, I decided to give it a try. I’d drink a gallon of water a day for 30 days to see what it would do for my face. Bathroom Breaks I couldn’t have started this experiment on a better day. The night before, I’d gone to the dinner party of a dear friend who works in PR — gatherings known for free-flowing wine. So, with a slight vino-induced hangover, I went to the market on my way to work and picked up a plastic gallon jug. It went down quite easily — and it might have been the first time dehydration due to alcohol did anything positive for me. This will be a snap, I thought. This attitude lasted for a good 24 hours. The next day, while out shopping with friends (water gallon in tow), I hit a wall — a tiled bathroom wall, that is. Do you know how many free, public bathrooms New York City has? By my count, three. And they’re always in use or disgusting. I was peeing regularly — at least once an hour — and trying to find a bathroom each time was like trying to find a Kylie Lip Kit for purchase. My poor friends were constantly waiting outside of Starbucks while I bunny-hopped back and forth in line so that I could toss £2 at the cashier for a small green tea in exchange for the damn code — so I didn’t wet myself in your line, sir, thank you very much. Drinking that much water was also a lesson in sipping. If I drank too fast, I’d feel sick to my stomach. If I drank too slowly, I wouldn’t get through the gallon by the end of the day. And while my body finally adjusted and my bathroom breaks decreased, I was still in the restroom as often as some of the pregnant women in the office. There were some days when I’d get into bed, realise that I still had some water left in my jug, and make a silent deal with whoever would listen. I’ll do fucking anything not to drink that water. Sometimes I did, and sometimes I left it there to linger until morning. The Big Payoff That said, I was seeing some positive changes in my skin and in other parts of my life. While the water didn’t make my face feel petal-soft, I did see a decrease in the number of zits dotting my chin and cheeks. I also had a major glow — so much so that I stopped wearing foundation and luminizer, and used only concealer. It was similar to my results on the Perricone Diet. And while I’m not sure the water had anything to do with it, my hair felt softer and looked a touch shinier. I was also totally shocked by the amount of energy I had. I’d leap out of bed every morning when my alarm went off, and my yoga classes became easier. Even my instructor said he noticed my energy levels were higher. He also noticed that I no longer toted my bodega coffee into the studio alongside my mat for the 7 a.m. classes. I didn’t feel the need to snack as often, my sugar cravings practically disappeared, and I didn’t get a single migraine while drinking all of this water. The best part, though? No hangovers — save for after one evening, when I mixed alcohol like a teenager while hanging out with my parents, of all people. But, hey. You can’t always win. These days, I find myself tracking my water intake with apps instead of carrying around a jug — I love this app called Waterlogged, because you can add your own containers and track by volume. Do I hit a gallon every day? Absolutely not — I’m lucky if I get over halfway there. But I’m more mindful about drinking H2O, which I think is the best you could ask for. So is a gallon of water a skin-care miracle? No, ma’am. Will it cure your flaky, dry skin? Not on its own, that’s for sure. But is drinking enough water part of a healthy skin-care regimen? For me, absolutely. And until my body or my doctor tells me otherwise, I’m going to keep on sipping. My one request? For the love of god, someone please send me an app that tracks clean, free public bathrooms in New York. I and the other camels of the world will thank you.'"
      ]
     },
     "execution_count": 22,
     "metadata": {},
     "output_type": "execute_result"
    }
   ],
   "source": [
    "df.iloc[5,4]"
   ]
  },
  {
   "cell_type": "markdown",
   "metadata": {},
   "source": [
    "#### Summarized Article"
   ]
  },
  {
   "cell_type": "code",
   "execution_count": 23,
   "metadata": {},
   "outputs": [
    {
     "data": {
      "text/plain": [
       "'There were some days when I’d get into bed, realise that I still had some water left in my jug, and make a silent deal with whoever would listen. I’d drink a gallon of water a day for 30 days to see what it would do for my face. The next day, while out shopping with friends (water gallon in tow), I hit a wall — a tiled bathroom wall, that is. I didn’t feel the need to snack as often, my sugar cravings practically disappeared, and I didn’t get a single migraine while drinking all of this water. My derm said that my acne would likely improve if I drank more water. And every aesthetician I’ve ever been to would tsk-tsk when I told them how little water I imbibed on a daily basis. While the water didn’t make my face feel petal-soft, I did see a decrease in the number of zits dotting my chin and cheeks.'"
      ]
     },
     "execution_count": 23,
     "metadata": {},
     "output_type": "execute_result"
    }
   ],
   "source": [
    "df.iloc[5,5]"
   ]
  },
  {
   "cell_type": "code",
   "execution_count": 24,
   "metadata": {
    "scrolled": true
   },
   "outputs": [
    {
     "data": {
      "text/html": [
       "<div>\n",
       "<style scoped>\n",
       "    .dataframe tbody tr th:only-of-type {\n",
       "        vertical-align: middle;\n",
       "    }\n",
       "\n",
       "    .dataframe tbody tr th {\n",
       "        vertical-align: top;\n",
       "    }\n",
       "\n",
       "    .dataframe thead th {\n",
       "        text-align: right;\n",
       "    }\n",
       "</style>\n",
       "<table border=\"1\" class=\"dataframe\">\n",
       "  <thead>\n",
       "    <tr style=\"text-align: right;\">\n",
       "      <th></th>\n",
       "      <th>Link</th>\n",
       "      <th>Author</th>\n",
       "      <th>Title</th>\n",
       "      <th>Published</th>\n",
       "      <th>Body</th>\n",
       "      <th>Summary</th>\n",
       "    </tr>\n",
       "  </thead>\n",
       "  <tbody>\n",
       "    <tr>\n",
       "      <th>0</th>\n",
       "      <td>https://medium.com/@salvadoraleguas/how-to-use...</td>\n",
       "      <td>[Salvador Aleguas]</td>\n",
       "      <td>How to use the easiest GUI of your life in Python</td>\n",
       "      <td>2020-07-29 02:16:37.255000+00:00</td>\n",
       "      <td>Installation I love using Python’s package man...</td>\n",
       "      <td># Adding an argument that can be called by -a ...</td>\n",
       "    </tr>\n",
       "    <tr>\n",
       "      <th>1</th>\n",
       "      <td>https://medium.com/@romanorac/are-you-still-us...</td>\n",
       "      <td>[Roman Orac]</td>\n",
       "      <td>Are you still using Pandas for big data?</td>\n",
       "      <td>2020-08-21 05:22:48.108000+00:00</td>\n",
       "      <td>Are you still using Pandas for big data? Panda...</td>\n",
       "      <td>%%time import glob df_list = for filename in g...</td>\n",
       "    </tr>\n",
       "    <tr>\n",
       "      <th>2</th>\n",
       "      <td>https://medium.com/@ngwaifoong92/create-custom...</td>\n",
       "      <td>[Ng Wai Foong]</td>\n",
       "      <td>Create Custom Word Clouds in Python</td>\n",
       "      <td>2020-03-19 17:10:57.804000+00:00</td>\n",
       "      <td>2. Basic Usage First and foremost, let’s impor...</td>\n",
       "      <td>mask — input an image to be used as a mask Onc...</td>\n",
       "    </tr>\n",
       "    <tr>\n",
       "      <th>3</th>\n",
       "      <td>https://medium.com/@benaikumar2/types-of-cross...</td>\n",
       "      <td>[]</td>\n",
       "      <td>Types of cross-validation in machine learning</td>\n",
       "      <td>2020-08-03 13:49:45.798000+00:00</td>\n",
       "      <td>Types of cross-validation in machine learning ...</td>\n",
       "      <td>Leave-One-Out Cross-Validation (LOOCV) In this...</td>\n",
       "    </tr>\n",
       "    <tr>\n",
       "      <th>4</th>\n",
       "      <td>https://medium.com/@venkateshprabhu/linear-reg...</td>\n",
       "      <td>[Venkatesh Prabhu]</td>\n",
       "      <td>Linear Regression in Python</td>\n",
       "      <td>2019-01-12 17:57:13.388000+00:00</td>\n",
       "      <td>Artwork by Igor Kozak How great it would be if...</td>\n",
       "      <td>Cost Function Cost Function helps us in determ...</td>\n",
       "    </tr>\n",
       "    <tr>\n",
       "      <th>5</th>\n",
       "      <td>https://medium.com/@refinery29/i-drank-a-gallo...</td>\n",
       "      <td>[]</td>\n",
       "      <td>I Drank A Gallon Of Water A Day For Better Ski...</td>\n",
       "      <td>2020-08-11 15:31:01.225000+00:00</td>\n",
       "      <td>I Drank A Gallon Of Water A Day For Better Ski...</td>\n",
       "      <td>There were some days when I’d get into bed, re...</td>\n",
       "    </tr>\n",
       "    <tr>\n",
       "      <th>6</th>\n",
       "      <td>https://medium.com/@jo879344/detecting-bad-cus...</td>\n",
       "      <td>[Jonathan Oheix]</td>\n",
       "      <td>Detecting bad customer reviews with NLP</td>\n",
       "      <td>2018-12-18 14:10:06.668000+00:00</td>\n",
       "      <td>Introduction Sentiment analysis is part of the...</td>\n",
       "      <td>Highest positive sentiment reviews The most po...</td>\n",
       "    </tr>\n",
       "    <tr>\n",
       "      <th>7</th>\n",
       "      <td>https://medium.com/@gavinnyr30/the-chilling-ch...</td>\n",
       "      <td>[Carter Covington]</td>\n",
       "      <td>The Chilling Chinese Restaurant Cover-Up</td>\n",
       "      <td>2020-08-19 05:11:15.480000+00:00</td>\n",
       "      <td>The Chilling Chinese Restaurant Cover-Up The a...</td>\n",
       "      <td>Immediately, officers went to the restaurant a...</td>\n",
       "    </tr>\n",
       "    <tr>\n",
       "      <th>8</th>\n",
       "      <td>https://medium.com/@MarcGuberti/the-3-billion-...</td>\n",
       "      <td>[Marc Guberti]</td>\n",
       "      <td>The $3 Billion Portfolio With Only 2 Stocks In It</td>\n",
       "      <td>2020-08-18 18:32:06.045000+00:00</td>\n",
       "      <td>This guy could care less about diversifying yo...</td>\n",
       "      <td>You don’t have to diversify your portfolio pic...</td>\n",
       "    </tr>\n",
       "    <tr>\n",
       "      <th>9</th>\n",
       "      <td>https://medium.com/@andrewahutch/mid-30s-vs-mi...</td>\n",
       "      <td>[Andrew Hutchinson]</td>\n",
       "      <td>Mid-30s vs. Mid-20s Millennial Women</td>\n",
       "      <td>2020-07-21 16:16:01.732000+00:00</td>\n",
       "      <td>By Slackjaw Yapjaw is Medium's #1 newsletter f...</td>\n",
       "      <td>By Slackjaw Yapjaw is Medium's #1 newsletter f...</td>\n",
       "    </tr>\n",
       "    <tr>\n",
       "      <th>10</th>\n",
       "      <td>https://medium.com/@joyalley/when-to-break-qua...</td>\n",
       "      <td>[Joy Alley]</td>\n",
       "      <td>When to Break Quarantine for a New Relationship</td>\n",
       "      <td>2020-08-24 08:31:01.096000+00:00</td>\n",
       "      <td>When to Break Quarantine for a New Relationshi...</td>\n",
       "      <td>Although this seems obvious, make sure to expl...</td>\n",
       "    </tr>\n",
       "    <tr>\n",
       "      <th>11</th>\n",
       "      <td>https://medium.com/@MarkerEditors/the-pandemic...</td>\n",
       "      <td>[Marker Editors]</td>\n",
       "      <td>The Pandemic Startup Surge, by the Numbers</td>\n",
       "      <td>2020-08-24 05:31:01.227000+00:00</td>\n",
       "      <td>The Pandemic Startup Surge, by the Numbers A n...</td>\n",
       "      <td>The previous week saw 113,860 applications for...</td>\n",
       "    </tr>\n",
       "    <tr>\n",
       "      <th>12</th>\n",
       "      <td>https://medium.com/@byrnehobart/why-spacs-are-...</td>\n",
       "      <td>[Byrne Hobart]</td>\n",
       "      <td>Why SPACs Are the New IPO</td>\n",
       "      <td>2020-07-28 16:41:29.128000+00:00</td>\n",
       "      <td>Why SPACs Are the New IPO The traditional rout...</td>\n",
       "      <td>In the ’90s, you could start a company, prep i...</td>\n",
       "    </tr>\n",
       "    <tr>\n",
       "      <th>13</th>\n",
       "      <td>https://medium.com/@nytmag/how-data-and-some-b...</td>\n",
       "      <td>[New York Times Magazine]</td>\n",
       "      <td>How Data (and Some Breathtaking Soccer) Brough...</td>\n",
       "      <td>2019-06-03 18:30:21.660000+00:00</td>\n",
       "      <td>To keep reading this story, get the free app o...</td>\n",
       "      <td>To keep reading this story, get the free app o...</td>\n",
       "    </tr>\n",
       "    <tr>\n",
       "      <th>14</th>\n",
       "      <td>https://medium.com/@juliahorvath/how-to-be-a-h...</td>\n",
       "      <td>[Julia Horvath]</td>\n",
       "      <td>How to Be a High-Functioning Night Owl</td>\n",
       "      <td>2020-01-20 12:14:59.317000+00:00</td>\n",
       "      <td>How to Be a High-Functioning Night Owl in a Wo...</td>\n",
       "      <td>The problem is, we night owls are often stuck ...</td>\n",
       "    </tr>\n",
       "    <tr>\n",
       "      <th>15</th>\n",
       "      <td>https://medium.com/@MissTanya/how-to-be-produc...</td>\n",
       "      <td>[Tanya Edwards]</td>\n",
       "      <td>How to Be Productive in Existentially Stressfu...</td>\n",
       "      <td>2020-07-27 13:27:43.501000+00:00</td>\n",
       "      <td>How to Be Productive in Existentially Stressfu...</td>\n",
       "      <td>Ask your boss uncomfortable questions When car...</td>\n",
       "    </tr>\n",
       "    <tr>\n",
       "      <th>16</th>\n",
       "      <td>https://medium.com/@sarahthefirth/feeling-smal...</td>\n",
       "      <td>[Sarah Firth]</td>\n",
       "      <td>The Power of Small Things</td>\n",
       "      <td>2020-08-21 21:14:23.090000+00:00</td>\n",
       "      <td>Written by Sarah Firth Follow I’m an award-win...</td>\n",
       "      <td>Written by Sarah Firth Follow I’m an award-win...</td>\n",
       "    </tr>\n",
       "  </tbody>\n",
       "</table>\n",
       "</div>"
      ],
      "text/plain": [
       "                                                 Link  \\\n",
       "0   https://medium.com/@salvadoraleguas/how-to-use...   \n",
       "1   https://medium.com/@romanorac/are-you-still-us...   \n",
       "2   https://medium.com/@ngwaifoong92/create-custom...   \n",
       "3   https://medium.com/@benaikumar2/types-of-cross...   \n",
       "4   https://medium.com/@venkateshprabhu/linear-reg...   \n",
       "5   https://medium.com/@refinery29/i-drank-a-gallo...   \n",
       "6   https://medium.com/@jo879344/detecting-bad-cus...   \n",
       "7   https://medium.com/@gavinnyr30/the-chilling-ch...   \n",
       "8   https://medium.com/@MarcGuberti/the-3-billion-...   \n",
       "9   https://medium.com/@andrewahutch/mid-30s-vs-mi...   \n",
       "10  https://medium.com/@joyalley/when-to-break-qua...   \n",
       "11  https://medium.com/@MarkerEditors/the-pandemic...   \n",
       "12  https://medium.com/@byrnehobart/why-spacs-are-...   \n",
       "13  https://medium.com/@nytmag/how-data-and-some-b...   \n",
       "14  https://medium.com/@juliahorvath/how-to-be-a-h...   \n",
       "15  https://medium.com/@MissTanya/how-to-be-produc...   \n",
       "16  https://medium.com/@sarahthefirth/feeling-smal...   \n",
       "\n",
       "                       Author  \\\n",
       "0          [Salvador Aleguas]   \n",
       "1                [Roman Orac]   \n",
       "2              [Ng Wai Foong]   \n",
       "3                          []   \n",
       "4          [Venkatesh Prabhu]   \n",
       "5                          []   \n",
       "6            [Jonathan Oheix]   \n",
       "7          [Carter Covington]   \n",
       "8              [Marc Guberti]   \n",
       "9         [Andrew Hutchinson]   \n",
       "10                [Joy Alley]   \n",
       "11           [Marker Editors]   \n",
       "12             [Byrne Hobart]   \n",
       "13  [New York Times Magazine]   \n",
       "14            [Julia Horvath]   \n",
       "15            [Tanya Edwards]   \n",
       "16              [Sarah Firth]   \n",
       "\n",
       "                                                Title  \\\n",
       "0   How to use the easiest GUI of your life in Python   \n",
       "1            Are you still using Pandas for big data?   \n",
       "2                 Create Custom Word Clouds in Python   \n",
       "3       Types of cross-validation in machine learning   \n",
       "4                         Linear Regression in Python   \n",
       "5   I Drank A Gallon Of Water A Day For Better Ski...   \n",
       "6             Detecting bad customer reviews with NLP   \n",
       "7            The Chilling Chinese Restaurant Cover-Up   \n",
       "8   The $3 Billion Portfolio With Only 2 Stocks In It   \n",
       "9                Mid-30s vs. Mid-20s Millennial Women   \n",
       "10    When to Break Quarantine for a New Relationship   \n",
       "11         The Pandemic Startup Surge, by the Numbers   \n",
       "12                          Why SPACs Are the New IPO   \n",
       "13  How Data (and Some Breathtaking Soccer) Brough...   \n",
       "14             How to Be a High-Functioning Night Owl   \n",
       "15  How to Be Productive in Existentially Stressfu...   \n",
       "16                          The Power of Small Things   \n",
       "\n",
       "                          Published  \\\n",
       "0  2020-07-29 02:16:37.255000+00:00   \n",
       "1  2020-08-21 05:22:48.108000+00:00   \n",
       "2  2020-03-19 17:10:57.804000+00:00   \n",
       "3  2020-08-03 13:49:45.798000+00:00   \n",
       "4  2019-01-12 17:57:13.388000+00:00   \n",
       "5  2020-08-11 15:31:01.225000+00:00   \n",
       "6  2018-12-18 14:10:06.668000+00:00   \n",
       "7  2020-08-19 05:11:15.480000+00:00   \n",
       "8  2020-08-18 18:32:06.045000+00:00   \n",
       "9  2020-07-21 16:16:01.732000+00:00   \n",
       "10 2020-08-24 08:31:01.096000+00:00   \n",
       "11 2020-08-24 05:31:01.227000+00:00   \n",
       "12 2020-07-28 16:41:29.128000+00:00   \n",
       "13 2019-06-03 18:30:21.660000+00:00   \n",
       "14 2020-01-20 12:14:59.317000+00:00   \n",
       "15 2020-07-27 13:27:43.501000+00:00   \n",
       "16 2020-08-21 21:14:23.090000+00:00   \n",
       "\n",
       "                                                 Body  \\\n",
       "0   Installation I love using Python’s package man...   \n",
       "1   Are you still using Pandas for big data? Panda...   \n",
       "2   2. Basic Usage First and foremost, let’s impor...   \n",
       "3   Types of cross-validation in machine learning ...   \n",
       "4   Artwork by Igor Kozak How great it would be if...   \n",
       "5   I Drank A Gallon Of Water A Day For Better Ski...   \n",
       "6   Introduction Sentiment analysis is part of the...   \n",
       "7   The Chilling Chinese Restaurant Cover-Up The a...   \n",
       "8   This guy could care less about diversifying yo...   \n",
       "9   By Slackjaw Yapjaw is Medium's #1 newsletter f...   \n",
       "10  When to Break Quarantine for a New Relationshi...   \n",
       "11  The Pandemic Startup Surge, by the Numbers A n...   \n",
       "12  Why SPACs Are the New IPO The traditional rout...   \n",
       "13  To keep reading this story, get the free app o...   \n",
       "14  How to Be a High-Functioning Night Owl in a Wo...   \n",
       "15  How to Be Productive in Existentially Stressfu...   \n",
       "16  Written by Sarah Firth Follow I’m an award-win...   \n",
       "\n",
       "                                              Summary  \n",
       "0   # Adding an argument that can be called by -a ...  \n",
       "1   %%time import glob df_list = for filename in g...  \n",
       "2   mask — input an image to be used as a mask Onc...  \n",
       "3   Leave-One-Out Cross-Validation (LOOCV) In this...  \n",
       "4   Cost Function Cost Function helps us in determ...  \n",
       "5   There were some days when I’d get into bed, re...  \n",
       "6   Highest positive sentiment reviews The most po...  \n",
       "7   Immediately, officers went to the restaurant a...  \n",
       "8   You don’t have to diversify your portfolio pic...  \n",
       "9   By Slackjaw Yapjaw is Medium's #1 newsletter f...  \n",
       "10  Although this seems obvious, make sure to expl...  \n",
       "11  The previous week saw 113,860 applications for...  \n",
       "12  In the ’90s, you could start a company, prep i...  \n",
       "13  To keep reading this story, get the free app o...  \n",
       "14  The problem is, we night owls are often stuck ...  \n",
       "15  Ask your boss uncomfortable questions When car...  \n",
       "16  Written by Sarah Firth Follow I’m an award-win...  "
      ]
     },
     "execution_count": 24,
     "metadata": {},
     "output_type": "execute_result"
    }
   ],
   "source": [
    "df"
   ]
  },
  {
   "cell_type": "markdown",
   "metadata": {},
   "source": [
    "### Saving to a csv"
   ]
  },
  {
   "cell_type": "code",
   "execution_count": 25,
   "metadata": {},
   "outputs": [],
   "source": [
    "#including todays date\n",
    "today = date.today().strftime(\"%b-%d-%Y\")"
   ]
  },
  {
   "cell_type": "code",
   "execution_count": 26,
   "metadata": {},
   "outputs": [],
   "source": [
    "#DD: Daily Digest\n",
    "df.to_csv('DD_'+ today +'.csv')"
   ]
  },
  {
   "cell_type": "code",
   "execution_count": null,
   "metadata": {},
   "outputs": [],
   "source": []
  }
 ],
 "metadata": {
  "kernelspec": {
   "display_name": "Python 3",
   "language": "python",
   "name": "python3"
  },
  "language_info": {
   "codemirror_mode": {
    "name": "ipython",
    "version": 3
   },
   "file_extension": ".py",
   "mimetype": "text/x-python",
   "name": "python",
   "nbconvert_exporter": "python",
   "pygments_lexer": "ipython3",
   "version": "3.7.1"
  }
 },
 "nbformat": 4,
 "nbformat_minor": 2
}
